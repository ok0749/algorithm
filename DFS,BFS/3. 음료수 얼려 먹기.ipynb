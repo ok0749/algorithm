{
 "cells": [
  {
   "cell_type": "markdown",
   "metadata": {},
   "source": [
    "### 입력 조건\n",
    "- 첫 번째 줄에 얼음 틀의 세로 길이 N과 가로 길이 M이 주어진다.(1 <= N,M <= 1000)\n",
    "- 두 번째 줄부터 N+1번째 줄까지 얼음 틀의 형태가 주어진다.\n",
    "- 이때 구멍이 뚫려있는 부분은 0, 그렇지 않은 부분은 1이다."
   ]
  },
  {
   "cell_type": "markdown",
   "metadata": {},
   "source": [
    "### 출력 조건\n",
    "- 한 번에 만들 수 있는 아이스크림의 개수를 출력한다."
   ]
  },
  {
   "cell_type": "markdown",
   "metadata": {},
   "source": [
    "### 규칙\n",
    "1. 구멍이 뚫려 있는 부분끼리 상, 하, 좌, 우로 붙어 있는 경우 서로 연결되어 있는 것으로 간주한다."
   ]
  },
  {
   "cell_type": "markdown",
   "metadata": {},
   "source": [
    "### ex)\n",
    "- 입력\n",
    "    - 15 14\n",
    "    - 0 0 0 0 0 1 1 1 1 0 0 0 0 0\n",
    "    - 1 1 1 1 1 1 0 1 1 1 1 1 1 0\n",
    "    - 1 1 0 1 1 1 0 1 1 0 1 1 1 0\n",
    "    - 1 1 0 1 1 1 0 1 1 0 0 0 0 0\n",
    "    - 1 1 0 1 1 1 1 1 1 1 1 1 1 1\n",
    "    - 1 1 0 1 1 1 1 1 1 1 1 1 0 0\n",
    "    - 1 1 0 0 0 0 0 0 0 1 1 1 1 1\n",
    "    - 0 1 1 1 1 1 1 1 1 1 1 1 1 1\n",
    "    - 0 0 0 0 0 0 0 0 0 1 1 1 1 1\n",
    "    - 0 1 1 1 1 1 1 1 1 1 1 0 0 0\n",
    "    - 0 0 0 1 1 1 1 1 1 1 1 0 0 0\n",
    "    - 0 0 0 0 0 0 0 0 1 1 1 0 0 0\n",
    "    - 1 1 1 1 1 1 1 1 1 1 0 0 1 1\n",
    "    - 1 1 1 0 0 0 1 1 1 1 1 1 1 1\n",
    "    - 1 1 1 0 0 0 1 1 1 1 1 1 1 1\n",
    "    \n",
    "- 출력\n",
    "    - 8"
   ]
  },
  {
   "cell_type": "code",
   "execution_count": 13,
   "metadata": {},
   "outputs": [
    {
     "name": "stdout",
     "output_type": "stream",
     "text": [
      "15 14\n",
      "0 0 0 0 0 1 1 1 1 0 0 0 0 0\n",
      "1 1 1 1 1 1 0 1 1 1 1 1 1 0\n",
      "1 1 0 1 1 1 0 1 1 0 1 1 1 0\n",
      "1 1 0 1 1 1 0 1 1 0 0 0 0 0\n",
      "1 1 0 1 1 1 1 1 1 1 1 1 1 1\n",
      "1 1 0 1 1 1 1 1 1 1 1 1 0 0\n",
      "1 1 0 0 0 0 0 0 0 1 1 1 1 1\n",
      "0 1 1 1 1 1 1 1 1 1 1 1 1 1\n",
      "0 0 0 0 0 0 0 0 0 1 1 1 1 1\n",
      "0 1 1 1 1 1 1 1 1 1 1 0 0 0\n",
      "0 0 0 1 1 1 1 1 1 1 1 0 0 0\n",
      "0 0 0 0 0 0 0 0 1 1 1 0 0 0\n",
      "1 1 1 1 1 1 1 1 1 1 0 0 1 1\n",
      "1 1 1 0 0 0 1 1 1 1 1 1 1 1\n",
      "1 1 1 0 0 0 1 1 1 1 1 1 1 1\n"
     ]
    }
   ],
   "source": [
    "n, m = map(int, input().split())\n",
    "\n",
    "ice = []\n",
    "for i in range(n):\n",
    "    ice.append(list(map(int, input().split())))"
   ]
  },
  {
   "cell_type": "code",
   "execution_count": 14,
   "metadata": {},
   "outputs": [],
   "source": [
    "def dfs(x, y):\n",
    "    if x <= -1 or x >= n or y <= -1 or y >= m: # 얼음 틀을 벗어나면 종료\n",
    "        return False \n",
    "    \n",
    "    if ice[x][y] == 0: # 현재 위치를 방문하지 않았다면 \n",
    "        ice[x][y] = 1  # 방문 처리\n",
    "        \n",
    "        # 상, 하, 좌, 우 모든 경우에 대해 재귀 호출\n",
    "        # 방문했다면 종료\n",
    "        # 방문 하지 않은 곳 방문 처리 \n",
    "        dfs(x-1, y) # 좌\n",
    "        dfs(x, y-1) # 하 \n",
    "        dfs(x+1, y) # 우\n",
    "        dfs(x, y+1) # 상\n",
    "        return True\n",
    "    return False"
   ]
  },
  {
   "cell_type": "code",
   "execution_count": 15,
   "metadata": {},
   "outputs": [
    {
     "name": "stdout",
     "output_type": "stream",
     "text": [
      "8\n"
     ]
    }
   ],
   "source": [
    "count = 0\n",
    "# 얼음틀 내 모든 좌표에 대해 함수 실행\n",
    "for i in range(n):\n",
    "    for j in range(m):\n",
    "        if dfs(i, j): # 반환 값이 True일 경우 count 증가 \n",
    "            count += 1\n",
    "print(count)"
   ]
  }
 ],
 "metadata": {
  "kernelspec": {
   "display_name": "Python 3",
   "language": "python",
   "name": "python3"
  },
  "language_info": {
   "codemirror_mode": {
    "name": "ipython",
    "version": 3
   },
   "file_extension": ".py",
   "mimetype": "text/x-python",
   "name": "python",
   "nbconvert_exporter": "python",
   "pygments_lexer": "ipython3",
   "version": "3.8.5"
  }
 },
 "nbformat": 4,
 "nbformat_minor": 4
}
