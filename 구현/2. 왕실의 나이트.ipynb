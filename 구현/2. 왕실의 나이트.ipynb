{
 "cells": [
  {
   "cell_type": "markdown",
   "metadata": {},
   "source": [
    "### 입력 조건\n",
    "- 첫째 줄에 8 x 8 좌표 평면상에서 현재 나이트가 위치한 곳의 좌표를 나타내는 두 문자로 구성된 문자 열이 입력된다. 입력 문자는 a1처럼 열과 행으로 이뤄진다."
   ]
  },
  {
   "cell_type": "markdown",
   "metadata": {},
   "source": [
    "###  출력 조건\n",
    "- 첫째 줄에 나이트가 이동할 수 있는 경우의 수를 출력하시오."
   ]
  },
  {
   "cell_type": "markdown",
   "metadata": {},
   "source": [
    "### 규칙\n",
    "1. 정원은 8 x 8 평면이고, 나이트는 L자 형태로만 이동할 수 있으며 정원 밖으로는 나갈 수 없다.\n",
    "2. 나이트는 2가지 경우로 이동할 수 있다.\n",
    "    - 수평으로 두 칸 이동한 뒤에 수직으로 한 칸 이동\n",
    "    - 수직으로 두 칸 이동한 뒤에 수평으로 한 칸 이동\n",
    "3. 행 위치는 1부터 8로 표현하며, 열 위치는 a부터 h로 표현한다."
   ]
  },
  {
   "cell_type": "markdown",
   "metadata": {},
   "source": [
    "### ex)\n",
    "- 입력 \n",
    "    - a1\n",
    "    \n",
    "- 출력 \n",
    "    - 2"
   ]
  },
  {
   "cell_type": "code",
   "execution_count": 5,
   "metadata": {},
   "outputs": [
    {
     "name": "stdout",
     "output_type": "stream",
     "text": [
      "a1\n",
      "2\n"
     ]
    }
   ],
   "source": [
    "N = input()\n",
    "\n",
    "steps = [(-2, -1), (-2, 1), (-1, -2), (-1, 2), (1, -2), (1, 2), (2, -1), (2, 1)] # 이동할 수 있는 모든 경우의 수 \n",
    "column = ord(N[0]) # 열 위치\n",
    "row = int(N[1]) # 행 위치\n",
    "count = 0\n",
    "\n",
    "for step_col, step_row in steps: # 모든 경우의 수에 대해 계산\n",
    "    next_col = column + step_col # 이동 후 열의 위치\n",
    "    next_row = row + step_row # 이동 후 행의 위치 \n",
    "    if  ord('a') <=next_col <= ord('h') and 1<= next_row <= 8: # 이동한 열의 위치가 1~8 이고 이동한 행의 위치가 a~h이면 카운트\n",
    "        count += 1\n",
    "print(count)"
   ]
  }
 ],
 "metadata": {
  "kernelspec": {
   "display_name": "Python 3",
   "language": "python",
   "name": "python3"
  },
  "language_info": {
   "codemirror_mode": {
    "name": "ipython",
    "version": 3
   },
   "file_extension": ".py",
   "mimetype": "text/x-python",
   "name": "python",
   "nbconvert_exporter": "python",
   "pygments_lexer": "ipython3",
   "version": "3.8.5"
  }
 },
 "nbformat": 4,
 "nbformat_minor": 4
}
