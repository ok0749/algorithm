{
 "cells": [
  {
   "cell_type": "markdown",
   "metadata": {},
   "source": [
    "### 입력 조건\n",
    " - 첫째 줄에 공간의 크기를 나타내는 N이 주어진다. (1 <= N <= 100)\n",
    " - 둘째 줄에 여행가 A가 이동할 계획서 내용이 주어진다. (1 <= 이동 횟수 <= 100)"
   ]
  },
  {
   "cell_type": "markdown",
   "metadata": {},
   "source": [
    "### 출력 조건\n",
    "- 첫째 물에 여행가 A가 최종적으로 도착할 지점의 좌표 (x, y)를 공백으로 구분하여 출력한다."
   ]
  },
  {
   "cell_type": "markdown",
   "metadata": {},
   "source": [
    "### 규칙\n",
    "1. 여행가 A는 N x N 크기의 정사각형 공간위에 있다. 이 공간은 1 x 1 크기의 정사각형으로 나누어져있다.\n",
    "2. 가장 왼쪽 위 좌표는 (1, 1)이며, 가장 오른쪽 아래 좌표는 (N, N)이다.\n",
    "3. 시작 좌표는 항상 (1, 1)이다.\n",
    "4. 계획서에는 하나의 줄에 띄어쓰기를 기준으로 하여 L, R, U, D 중 하나의 문자가 반복적으로 적혀있다.(왼쪽, 오른쪽, 위쪽, 아래쪽 각 한 칸 이동)\n",
    "5. 여행가 A가 N x N 크기의 정사각형 공간을 벗어나는 움직임은 무시된다."
   ]
  },
  {
   "cell_type": "markdown",
   "metadata": {},
   "source": [
    "### ex) \n",
    "- 입력 \n",
    "    - 5\n",
    "    - R R R U D D\n",
    "- 출력 \n",
    "    - 3 4"
   ]
  },
  {
   "cell_type": "code",
   "execution_count": 7,
   "metadata": {},
   "outputs": [
    {
     "output_type": "stream",
     "name": "stdout",
     "text": "3 4\n"
    }
   ],
   "source": [
    "N = int(input())\n",
    "loc = [1, 1] # 시작 위치\n",
    "\n",
    "move = input().split()\n",
    "for i in move:\n",
    "    if i == 'R' and loc[1] != N: \n",
    "        loc[1] += 1\n",
    "    elif i == 'L' and loc[1] != 1:\n",
    "        loc[1] -= 1\n",
    "    elif i == 'U' and loc[0] != 1:\n",
    "        loc[0] -= 1\n",
    "    elif i == 'D' and loc[0] != N:\n",
    "        loc[0] += 1\n",
    "\n",
    "print('%d %d' %(loc[0], loc[1]))"
   ]
  }
 ],
 "metadata": {
  "language_info": {
   "codemirror_mode": {
    "name": "ipython",
    "version": 3
   },
   "file_extension": ".py",
   "mimetype": "text/x-python",
   "name": "python",
   "nbconvert_exporter": "python",
   "pygments_lexer": "ipython3",
   "version": 3
  },
  "orig_nbformat": 2,
  "kernelspec": {
   "name": "python_defaultSpec_1614082317723",
   "display_name": "Python 3.8.5 64-bit ('base': conda)"
  }
 },
 "nbformat": 4,
 "nbformat_minor": 2
}