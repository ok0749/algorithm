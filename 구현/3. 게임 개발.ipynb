{
 "cells": [
  {
   "cell_type": "markdown",
   "metadata": {},
   "source": [
    "### 입력 조건\n",
    "- 첫째 줄에 맵의 세로 크기 N과 가로 크기 M을 공백으로 구분하여 입력한다. (3 <= N,M <=50)\n",
    "- 둘째 줄에 게임 캐릭터가 있는 칸의 좌표 (A, B)와 바라보는 방향 d가 각각 서로 공백으로 구분하여 주어진다. 방향 d의 값으로는 다음과 같이 4가지가 존재한다.\n",
    "    - 0: 북쪽, 1: 동쪽, 2: 남쪽, 3: 서쪽\n",
    "- 셋째 줄부터 맵이 육지인지 바다인지에 대한 정보가 주어진다. N개의 줄에 맵의 상태가 북쪽부터 남쪽 순서대로, 각 줄의 데이터는 서쪽부터 동쪽 순서대로 주어진다. 맵의 외곽은 항상 바다로 되어 있다.\n",
    "    - 0: 육지, 1: 바다\n",
    "- 처음에 게임 캐릭터가 위치한 칸의 상태는 항상 육지이다."
   ]
  },
  {
   "cell_type": "markdown",
   "metadata": {},
   "source": [
    "### 출력 조건\n",
    "- 첫째 줄에 이동을 마친 후 캐릭터가 방문한 칸의 수를 출력한다."
   ]
  },
  {
   "cell_type": "markdown",
   "metadata": {},
   "source": [
    "### 규칙\n",
    "1. 캐릭터가 있는 장소는 1 X 1 크기의 정사각형으로 이뤄진 N X M 크기의 직사각형으로, 각각의 칸은 육지 또는 바다이다. 캐릭터는 동서남북 중 한 곳을 바라본다\n",
    "2. 맵의 각 칸은 (A, B)로 나타낼 수 있고, A는 북쪽으로부터 떨어진 칸의 개수, B는 서쪽으로부터 떨어진 칸의 개수이다.\n",
    "3. 캐릭터는 상하좌우로 움직일 수 있고, 바다로 되어 있는 공간에는 갈 수 없다. \n",
    "\n",
    "캐릭터 움직임\n",
    "1. 현재 위치에서 현재 방향을 기준으로 왼쪽 방향(반시계 방향으로 90도 회전한 방향)부터 차례대로 갈 곳을 정한다.\n",
    "2. 캐릭터의 바로 왼쪽 방향에 아직 가보지 않은 칸이 존재한다면, 왼쪽 방향으로 회전한 다음 왼쪽으로 한 칸을 전진한다. 왼쪽 방향에 가보지 않은 칸이 없다면, 왼쪽 방향으로 회전만 수행하고 1단계로 돌아간다.\n",
    "3. 만약 네 방향 모두 이미 가본 칸이거나 바다로 되어 있는 칸인 경우에는, 바라보는 방향을 유지한 채로 한 칸 뒤로 가고 1단계로 돌아간다. 단, 이때 뒤쪽 방향이 바다인 칸이라 뒤로 갈 수 없는 경우에는 움직임을 멈춘다. "
   ]
  },
  {
   "cell_type": "markdown",
   "metadata": {},
   "source": [
    "### ex)\n",
    "- 입력\n",
    "    - 4 4\n",
    "    - 1 1 0\n",
    "    - 1 1 1 1 \n",
    "    - 1 0 0 1\n",
    "    - 1 1 0 1\n",
    "    - 1 1 1 1 \n",
    "- 출력\n",
    "    - 3"
   ]
  },
  {
   "cell_type": "code",
   "execution_count": 46,
   "metadata": {},
   "outputs": [],
   "source": [
    "import numpy as np"
   ]
  },
  {
   "cell_type": "code",
   "execution_count": 47,
   "metadata": {},
   "outputs": [
    {
     "name": "stdout",
     "output_type": "stream",
     "text": [
      "4 4 \n",
      "1 1 0\n",
      "1 1 1 1\n",
      "1 0 0 1\n",
      "1 1 0 1\n",
      "1 1 1 1\n"
     ]
    },
    {
     "data": {
      "text/plain": [
       "array([[1, 1, 1, 1],\n",
       "       [1, 0, 0, 1],\n",
       "       [1, 1, 0, 1],\n",
       "       [1, 1, 1, 1]])"
      ]
     },
     "execution_count": 47,
     "metadata": {},
     "output_type": "execute_result"
    }
   ],
   "source": [
    "# 맵 크기\n",
    "n, m = map(int, input().split())\n",
    "\n",
    "# 현재 위치, 방향\n",
    "x, y, d = map(int, input().split())\n",
    "\n",
    "# 맵 생성\n",
    "Map = []\n",
    "for i in range(n):\n",
    "    Map.append(list(map(int, input().split())))\n",
    "\n",
    "np.array(Map)"
   ]
  },
  {
   "cell_type": "code",
   "execution_count": 48,
   "metadata": {},
   "outputs": [
    {
     "data": {
      "text/plain": [
       "array([[0, 0, 0, 0],\n",
       "       [0, 1, 0, 0],\n",
       "       [0, 0, 0, 0],\n",
       "       [0, 0, 0, 0]])"
      ]
     },
     "execution_count": 48,
     "metadata": {},
     "output_type": "execute_result"
    }
   ],
   "source": [
    "# 방문 기록할 맵 생성\n",
    "count_map = [[0]*m for _ in range(n)]\n",
    "\n",
    "# 시작 위치 방문 표시\n",
    "count_map[x][y] = 1\n",
    "\n",
    "np.array(count_map)"
   ]
  },
  {
   "cell_type": "code",
   "execution_count": 49,
   "metadata": {},
   "outputs": [
    {
     "name": "stdout",
     "output_type": "stream",
     "text": [
      "3 \n",
      "\n",
      "[[1 1 1 1]\n",
      " [1 0 0 1]\n",
      " [1 1 0 1]\n",
      " [1 1 1 1]] \n",
      "\n",
      "[[0 0 0 0]\n",
      " [0 1 1 0]\n",
      " [0 0 1 0]\n",
      " [0 0 0 0]]\n"
     ]
    }
   ],
   "source": [
    "# 방문 칸 수(시작 위치 1칸 세고 시작)\n",
    "count = 1\n",
    "\n",
    "# 회전 횟수\n",
    "turn_count = 0\n",
    "\n",
    "# 이동 좌표(북, 동, 남, 서)\n",
    "dx = [-1, 0, 1, 0]\n",
    "dy = [0, 1, 0, -1]\n",
    "\n",
    "# 갈 곳이 없을 때 까지 반복\n",
    "while True:\n",
    "    # 왼쪽 회전\n",
    "    d -= 1 # 왼쪽으로 회전 북 -> 서 -> 남 -> 동\n",
    "    if d == -1: # 북 -> 서\n",
    "        d = 3\n",
    "        \n",
    "    # 정면 좌표\n",
    "    new_x = x + dx[d]\n",
    "    new_y = y + dy[d]\n",
    "    \n",
    "    # 육지이고 방문하지 않았다면\n",
    "    if Map[new_x][new_y] == 0 and count_map[new_x][new_y] == 0:\n",
    "        \n",
    "        # 이동(좌표 업데이트)\n",
    "        x = new_x\n",
    "        y = new_y\n",
    "        \n",
    "        # 방문 했다고 표시\n",
    "        count_map[new_x][new_y] = 1\n",
    "        \n",
    "        # 방문 칸 수 증가\n",
    "        count += 1\n",
    "        \n",
    "        # 회전 횟수 초기화\n",
    "        turn_count = 0\n",
    "        \n",
    "        continue\n",
    "        \n",
    "    # 바다거나 방문 했다면    \n",
    "    else:\n",
    "        # 회전 횟수 증가\n",
    "        turn_count += 1\n",
    "        \n",
    "    # 모든 방향으로 회전했다면\n",
    "    if turn_count == 4:\n",
    "        # 회전 횟수 초기화 \n",
    "        turn_count = 0\n",
    "        \n",
    "        # 후면 좌표\n",
    "        new_x = x - dx[d]\n",
    "        new_y = y - dy[d]\n",
    "        \n",
    "        # 후면 좌표가 육지라면\n",
    "        if Map[new_x][new_y] == 0:\n",
    "            # 이동(좌표 업데이트)\n",
    "            x = new_x\n",
    "            y = new_y\n",
    "        \n",
    "        # 바다라면\n",
    "        else:\n",
    "            break\n",
    "            \n",
    "print(count, '\\n')\n",
    "print(np.array(Map), '\\n')\n",
    "print(np.array(count_map))"
   ]
  },
  {
   "cell_type": "code",
   "execution_count": null,
   "metadata": {},
   "outputs": [],
   "source": []
  }
 ],
 "metadata": {
  "kernelspec": {
   "display_name": "Python 3",
   "language": "python",
   "name": "python3"
  },
  "language_info": {
   "codemirror_mode": {
    "name": "ipython",
    "version": 3
   },
   "file_extension": ".py",
   "mimetype": "text/x-python",
   "name": "python",
   "nbconvert_exporter": "python",
   "pygments_lexer": "ipython3",
   "version": "3.8.5"
  }
 },
 "nbformat": 4,
 "nbformat_minor": 4
}
