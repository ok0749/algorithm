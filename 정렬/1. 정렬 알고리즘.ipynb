{
 "cells": [
  {
   "cell_type": "markdown",
   "metadata": {},
   "source": [
    "### 선택 정렬(selection sort)\n",
    "- 데이터중 가장 작은 데이터를 선택해 맨 앞에 있는 데이터와 바꾸고, 그다음 작은 데이터를 선택해 앞에서 두 번째 데이터와 바꾸는 과정 반복"
   ]
  },
  {
   "cell_type": "code",
   "execution_count": 23,
   "metadata": {},
   "outputs": [],
   "source": [
    "array = [7, 5, 9, 0, 3, 1, 6, 2, 4 ,8]"
   ]
  },
  {
   "cell_type": "code",
   "execution_count": 24,
   "metadata": {},
   "outputs": [
    {
     "name": "stdout",
     "output_type": "stream",
     "text": [
      "[0, 1, 2, 3, 4, 5, 6, 7, 8, 9]\n"
     ]
    }
   ],
   "source": [
    "for i in range(len(array)):\n",
    "    min_index = i # 가장 작은 데이터의 인덱스 번호 \n",
    "    for j in range(i+1, len(array)):\n",
    "        if array[min_index] > array[j]: # 기존의 가장 작은 데이터 보다 더 작은 수 찾았을 경우\n",
    "            min_index = j\n",
    "    array[i], array[min_index] = array[min_index], array[i] # 위치 변경(스와프)\n",
    "            \n",
    "print(array)"
   ]
  },
  {
   "cell_type": "markdown",
   "metadata": {},
   "source": [
    "### 삽입 정렬(insertion sort)\n",
    "- 데이터를 하나씩 확인하며, 각 데이터를 적절한 위치에 삽인\n",
    "- 선택 정렬에 비해 실행 시간 측면에서 더 효율적\n",
    "- 필요할 때만 위치를 바꾸므로 데이터가 거의 정렬 되어 있을 때 훨씬 효율적"
   ]
  },
  {
   "cell_type": "code",
   "execution_count": 25,
   "metadata": {},
   "outputs": [],
   "source": [
    "array = [7, 5, 9, 0, 3, 1, 6, 2, 4 ,8]"
   ]
  },
  {
   "cell_type": "code",
   "execution_count": 26,
   "metadata": {},
   "outputs": [
    {
     "name": "stdout",
     "output_type": "stream",
     "text": [
      "[0, 1, 2, 3, 4, 5, 6, 7, 8, 9]\n"
     ]
    }
   ],
   "source": [
    "for i in range(1, len(array)):\n",
    "    for j in range(i, 0, -1): # 뒤에서 부터 탐색 \n",
    "        if array[j] < array[j-1]:\n",
    "            array[j], array[j-1] = array[j-1], array[j]\n",
    "        else:\n",
    "            break\n",
    "    \n",
    "print(array)"
   ]
  },
  {
   "cell_type": "markdown",
   "metadata": {},
   "source": [
    "### 퀵 정렬\n",
    "- 기준을 설정한 다음 큰 수와 작은 수를 교환한 후 리스트를 반으로 나누는 방식\n",
    "    1. 리스트에서 첫 번째 데이터를 피벗으로 정하고 왼쪽에서부터 피벗보다 큰 데이터를 찾고, 오른쪽에서부터 피벗보다 작은 데이터를 찾는다.\n",
    "    2. 큰 데이터와 작은 데이터의 위치를 서로 교환해준다.\n",
    "    3. 왼쪽에서부터 찾는 값과 오른쪽에서 찾는 값의 위치가 서로 엇갈린 경우 작은 데이터와 피벗의 위치를 서로 교환해준다.\n",
    "    4. 3의 경우가 발생할 때까지 1, 2 과정을 반복한다.\n",
    "    5. 3의 경우가 발생하면 피벗 기준으로 왼쪽 데이터 오른쪽 데이터에 대해서 데이터의 개수가 1개가 될 때까지1, 2, 3 과정을 반복한다"
   ]
  },
  {
   "cell_type": "code",
   "execution_count": 27,
   "metadata": {},
   "outputs": [],
   "source": [
    "array = [5, 7, 9, 0, 3, 1, 6, 2, 4, 8]"
   ]
  },
  {
   "cell_type": "code",
   "execution_count": 28,
   "metadata": {},
   "outputs": [],
   "source": [
    "def quick_sort(array, start, end):\n",
    "    if start >= end: # 원소의 개수가 1개만 종료 \n",
    "        return \n",
    "    pivot = start\n",
    "    left = start + 1\n",
    "    right = end\n",
    "    \n",
    "    while left <= right: # 왼쪽에서부터 찾는 값과 오른쪽에서 찾는 값의 위치가 서로 엇갈릴 때까지 반복\n",
    "        while left <= end and array[pivot] >= array[left]: # pivot 보다 큰 수 왼쪽에서 부터 탐색\n",
    "            left += 1\n",
    "        while right > start and array[pivot] <= array[right]: # pivot 보다 작은 수 오른쪽에서 부터 탐색\n",
    "            right -= 1\n",
    "        if left > right: # 위치가 엇갈린 경우\n",
    "            array[pivot], array[right] = array[right], array[pivot] # 피벗과 왼쪽에서부터 찾은 값 교환\n",
    "        else: # 위치가 엇갈리지 않은 경우(왼쪽에서부터 찾은 값 위치가 오른쪽에서 찾은 값 위치 보다 큰 경우)\n",
    "            array[left], array[right] = array[right], array[left] # 왼족에서부터 찾은 값과 오른쪽에서부터 찾은 값 교환\n",
    "\n",
    "    quick_sort(array, start, right-1) # 왼쪽 리스트에 대해 반복\n",
    "    quick_sort(array, right+1, end) # 오른쪽 리스트에 대해 반복"
   ]
  },
  {
   "cell_type": "code",
   "execution_count": 29,
   "metadata": {},
   "outputs": [
    {
     "name": "stdout",
     "output_type": "stream",
     "text": [
      "[0, 1, 2, 3, 4, 5, 6, 7, 8, 9]\n"
     ]
    }
   ],
   "source": [
    "quick_sort(array, 0, len(array)-1)\n",
    "print(array)"
   ]
  },
  {
   "cell_type": "code",
   "execution_count": 30,
   "metadata": {},
   "outputs": [],
   "source": [
    "def quick_sort(array):\n",
    "    if len(array) <= 1: # 리스트의 데이터 개수가 1개인 경우 종료\n",
    "        return array\n",
    "    \n",
    "    pivot = array[0] # 피벗\n",
    "    tail = array[1:] # 피벗을 제외한 데이터 \n",
    "    \n",
    "    left = [x for x in tail if x <= pivot] # 피벗 보다 작거나 같은 데이터 리스트\n",
    "    right = [x for x in tail if x > pivot] # 피벗 보다 큰 데이터 리스트\n",
    "    \n",
    "    # 재귀 호출, 데이터 합치기\n",
    "    return quick_sort(left) + [pivot] + quick_sort(right) "
   ]
  },
  {
   "cell_type": "code",
   "execution_count": 31,
   "metadata": {},
   "outputs": [
    {
     "name": "stdout",
     "output_type": "stream",
     "text": [
      "[0, 1, 2, 3, 4, 5, 6, 7, 8, 9]\n"
     ]
    }
   ],
   "source": [
    "print(quick_sort(array))"
   ]
  },
  {
   "cell_type": "markdown",
   "metadata": {},
   "source": [
    "### 계수 정렬(Count sort)\n",
    "- 특정한 조건이 부합할 때만 사용할 수 있지만 매우 빠른 정렬 알고리즘\n",
    "- 데이터의 크기 범위가 제한되어 정수 형태로 표현할 수 있을 때만 사용할 수 있다.\n",
    "- 일반적으로 가장 큰 데이터와 가장 작은 데이터의 차이가 1,000,000을 넘지 않을 때 효과적으로 사용할 수 있다.\n",
    "    - 모든 범위를 담을 수 있는 크기의 리스트(배열)을 선언해야 하기 때문\n",
    "- 데이터의 크기가 한정되어 있고, 데이터가 많이 중복되어 있을수록 유리하며 항상 사용할 수는 없다.하지만 조건만 만족한다면 정렬해야 하는 데이터의 개수가 매우 많을 때에도 효과적으로 사용할 수 있다.\n",
    "1. 가장 큰 데이터와 가장 작은 데이터의 범위가 모두 담길 수 있도록 모든 데이터가 0인 하나의 리스트를 생성한다.\n",
    "2. 데이터를 하나씩 확인하며 데이터의 값과 동일한 인덱스의 데이터 1씩 증가시킨다.\n",
    "3. 리스트에는 각 데이터가 몇 번 등장했는지 그 횟수가 기록된다. 즉 리스트에 저장된 데이터 자체가 정렬된 형태 그 자체이다."
   ]
  },
  {
   "cell_type": "code",
   "execution_count": 38,
   "metadata": {},
   "outputs": [],
   "source": [
    "array = [7, 5, 9, 0, 3, 1, 6, 2, 9, 1, 4, 8, 0, 5, 2]"
   ]
  },
  {
   "cell_type": "code",
   "execution_count": 39,
   "metadata": {},
   "outputs": [
    {
     "name": "stdout",
     "output_type": "stream",
     "text": [
      "0 0 1 1 2 2 3 4 5 5 6 7 8 9 9 "
     ]
    }
   ],
   "source": [
    "count = [0] * (len(array) + 1) # 모든 데이터 담을 수 있는 값이 0인 리스트 생성 \n",
    "\n",
    "for i in array:\n",
    "    count[i] += 1 # 각 데이터에 해당하는 인덱스의 값 증가(각 데이터가 몇 번 등장했는지 횟수 기록)\n",
    "\n",
    "for i in range(len(count)): # 기록된 횟수 만큼 출력\n",
    "    for j in range(count[i]):\n",
    "        print(i, end=' ')  "
   ]
  }
 ],
 "metadata": {
  "kernelspec": {
   "display_name": "Python 3",
   "language": "python",
   "name": "python3"
  },
  "language_info": {
   "codemirror_mode": {
    "name": "ipython",
    "version": 3
   },
   "file_extension": ".py",
   "mimetype": "text/x-python",
   "name": "python",
   "nbconvert_exporter": "python",
   "pygments_lexer": "ipython3",
   "version": "3.8.5"
  }
 },
 "nbformat": 4,
 "nbformat_minor": 4
}
