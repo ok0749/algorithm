{
 "cells": [
  {
   "cell_type": "markdown",
   "metadata": {},
   "source": [
    "### 입력 조건\n",
    "- 첫째 줄에 N이 주어진다.(1 <= N <= 1,000)"
   ]
  },
  {
   "cell_type": "markdown",
   "metadata": {},
   "source": [
    "### 출력 조건\n",
    "- 첫째 줄에 2 x N 크기의 바닥을 채우는 방법의 수를 796,796으로 나눈 나머지를 출력한다."
   ]
  },
  {
   "cell_type": "markdown",
   "metadata": {},
   "source": [
    "### 규칙\n",
    "1. 가로의 길이 N, 세로의 길이 2인 직사각형 형태의 얇은 바닥이 있다.\n",
    "2. 이 얇은 바닥을 1 x 2, 2 x 1, 2 x 2 덮개를 이용해 채우고자 한다.\n",
    "3. 바닥을 채우는 모든 경우의 수를 구하는 프로그램을 작성하시오."
   ]
  },
  {
   "cell_type": "markdown",
   "metadata": {},
   "source": [
    "### ex)\n",
    "- 입력\n",
    "    - 3\n",
    "    \n",
    "- 출력\n",
    "    - 5"
   ]
  },
  {
   "cell_type": "markdown",
   "metadata": {},
   "source": [
    "점화식\n",
    "- a(i) = a(i-1) + a(i-2) * 2"
   ]
  },
  {
   "cell_type": "code",
   "execution_count": 1,
   "metadata": {},
   "outputs": [
    {
     "name": "stdout",
     "output_type": "stream",
     "text": [
      "3\n"
     ]
    }
   ],
   "source": [
    "# 가로 길이\n",
    "n = int(input())"
   ]
  },
  {
   "cell_type": "code",
   "execution_count": 2,
   "metadata": {},
   "outputs": [
    {
     "name": "stdout",
     "output_type": "stream",
     "text": [
      "5\n"
     ]
    }
   ],
   "source": [
    "# 앞서 계산된 결과를 저장하기 위한 DP 테이블 생성 및 초기화\n",
    "d = [0] * (n + 1)\n",
    "\n",
    "# 2 x 1인 바닥을 채우는 경우의 수 -> 1\n",
    "d[1] = 1\n",
    "# 2 x 2인 바닥을 채우는 경우의 수 -> 3\n",
    "d[2] = 3\n",
    "# 3 x 3이상인 바닥을 채우는 경우의 수 \n",
    "# 왼쪽부터 i - 1까지 길이가 덮개로 이미 채워져있으면 2 x 1덮개 하나로 채우는 경우만 존재\n",
    "# 왼쪽부터 i - 2까지 길이가 덮개로 이미 채워져있으면 1 x 2덮개 두 개로 채우는 경우와 2 x 2덮개 하나로 채우는 두가지의 경우 존재\n",
    "for i in range(3, n + 1):\n",
    "    d[i] = (d[i - 1] + d[i - 2] * 2) % 796796\n",
    "\n",
    "print(d[n])"
   ]
  },
  {
   "cell_type": "code",
   "execution_count": 3,
   "metadata": {},
   "outputs": [
    {
     "data": {
      "text/plain": [
       "[0, 1, 3, 5]"
      ]
     },
     "execution_count": 3,
     "metadata": {},
     "output_type": "execute_result"
    }
   ],
   "source": [
    "d"
   ]
  }
 ],
 "metadata": {
  "kernelspec": {
   "display_name": "Python 3",
   "language": "python",
   "name": "python3"
  },
  "language_info": {
   "codemirror_mode": {
    "name": "ipython",
    "version": 3
   },
   "file_extension": ".py",
   "mimetype": "text/x-python",
   "name": "python",
   "nbconvert_exporter": "python",
   "pygments_lexer": "ipython3",
   "version": "3.8.5"
  }
 },
 "nbformat": 4,
 "nbformat_minor": 4
}
