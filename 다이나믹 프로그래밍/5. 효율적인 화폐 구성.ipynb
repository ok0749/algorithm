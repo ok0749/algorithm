{
 "cells": [
  {
   "cell_type": "markdown",
   "metadata": {},
   "source": [
    "### 입력 조건\n",
    "- 첫째 줄에 N, M이 주어진다.(1 <= N <= 100, 1 <= M <= 10,000)\n",
    "- 이후 N개의 줄에는 각 화폐의 가치가 주어진다. 화폐 가치는 10,000보다 작거나 같은 자연수이다."
   ]
  },
  {
   "cell_type": "markdown",
   "metadata": {},
   "source": [
    "### 출력 조건\n",
    "- 첫째 줄에 M원을 만들기 위한 최소한의 화폐 개수를 출력한다.\n",
    "- 불가능할 때는 -1을 출력한다."
   ]
  },
  {
   "cell_type": "markdown",
   "metadata": {},
   "source": [
    "### 규칙\n",
    "1. N가지 종류의 화폐가 있다. 이 화폐들의 개수를 최소한으로 이용해서 그 가치의 합이 M원이 되도록 하려고 한다.\n",
    "2. 각 화폐는 몇 개라도 사용할 수 있으며, 사용한 화폐의 구성은 같지만 순서만 다른 것은 같은 경우로 구분한다."
   ]
  },
  {
   "cell_type": "markdown",
   "metadata": {},
   "source": [
    "### ex 1)\n",
    "- 입력 \n",
    "    - 2 15\n",
    "    - 2\n",
    "    - 3\n",
    "  \n",
    "- 출력 \n",
    "    - 5"
   ]
  },
  {
   "cell_type": "markdown",
   "metadata": {},
   "source": [
    "### ex 2)\n",
    "- 입력\n",
    "    - 3 4\n",
    "    - 3\n",
    "    - 5\n",
    "    - 7\n",
    "    \n",
    "- 출력 \n",
    "    - -1"
   ]
  },
  {
   "cell_type": "markdown",
   "metadata": {},
   "source": [
    "점화식 \n",
    "- a(i): 금액 i를 만들 수 있는 최소한의 화폐 개수\n",
    "- k: 화폐의 단위\n",
    "- a(i-k): 금액 i-k를 만들 수 있는 최소한의 화폐 개수\n",
    "- a(i) = min(a(i), a(i-k)+1)"
   ]
  },
  {
   "cell_type": "code",
   "execution_count": 25,
   "metadata": {},
   "outputs": [
    {
     "name": "stdout",
     "output_type": "stream",
     "text": [
      "2 15\n",
      "2\n",
      "3\n"
     ]
    }
   ],
   "source": [
    "# 화폐 종류, 목표 금액\n",
    "n, m = map(int, input().split())\n",
    "\n",
    "array = []\n",
    "for i in range(n):\n",
    "    array.append(int(input()))"
   ]
  },
  {
   "cell_type": "code",
   "execution_count": 26,
   "metadata": {},
   "outputs": [
    {
     "name": "stdout",
     "output_type": "stream",
     "text": [
      "5\n"
     ]
    }
   ],
   "source": [
    "# 앞선 결과 저장하가 위한 dp테이블 생성 및 초기화\n",
    "# 초기값: 큰 숫자로 설정\n",
    "d = [10000] * (m + 1)\n",
    "\n",
    "d[0] = 0\n",
    "# 화폐 개수만큼 실행\n",
    "for i in array:\n",
    "    # 해당 화폐 가치부터 목표 금액까지 -> 그 이전 값은 j - i 값이 음수이므로 뺀다\n",
    "    for j in range(i, m + 1):\n",
    "        # 기존 값과 비교하여 더 작은 값으로 업데이트\n",
    "        d[j] = min(d[j], d[j - i] + 1)\n",
    "\n",
    "# 값이 10000이면 만드는 방법이 없는 것이므로 -1 출력\n",
    "if d[m] == 10000:\n",
    "    print(-1)\n",
    "else: \n",
    "    print(d[m])"
   ]
  },
  {
   "cell_type": "code",
   "execution_count": 27,
   "metadata": {},
   "outputs": [
    {
     "data": {
      "text/plain": [
       "[0, 10000, 1, 1, 2, 2, 2, 3, 3, 3, 4, 4, 4, 5, 5, 5]"
      ]
     },
     "execution_count": 27,
     "metadata": {},
     "output_type": "execute_result"
    }
   ],
   "source": [
    "d"
   ]
  }
 ],
 "metadata": {
  "kernelspec": {
   "display_name": "Python 3",
   "language": "python",
   "name": "python3"
  },
  "language_info": {
   "codemirror_mode": {
    "name": "ipython",
    "version": 3
   },
   "file_extension": ".py",
   "mimetype": "text/x-python",
   "name": "python",
   "nbconvert_exporter": "python",
   "pygments_lexer": "ipython3",
   "version": "3.8.5"
  }
 },
 "nbformat": 4,
 "nbformat_minor": 4
}
