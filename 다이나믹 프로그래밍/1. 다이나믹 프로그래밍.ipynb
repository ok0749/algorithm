{
 "cells": [
  {
   "cell_type": "markdown",
   "metadata": {},
   "source": [
    "### 다이나믹 프로그래밍(동적 계획법)\n",
    "- 종류 \n",
    "    - 탑다운 방식(하향식): 재귀 함수를 이용하여 다이나믹 프로그래밍 소스코드를 작성하는 방식\n",
    "    - 바텀업 방식(상향식): 반복문을 이용하여 다이나믹 프로그래밍 소스코드를 작성하는 방식, 바텀업 방식에서 사용되는 결과 저장용 리스트는 DP테이블 이라고 불린다\n",
    "    \n",
    "- 조건\n",
    "    - 큰 문제를 작은 문제로 나눌 수 있다.\n",
    "    - 작은 문제에서 구한 정답은 그것을 포함하는 큰 문제에서도 동일하다."
   ]
  },
  {
   "cell_type": "markdown",
   "metadata": {},
   "source": [
    "### 메모제이션(캐싱)\n",
    "- 다이나믹 프로그래밍을 구현하는 방법 중 한 종류로, 한 번 구한 결과를 메모리 공간에 메모해두고 같은 식을 다시 호출하면 메모한 결과를 그대로 가져오는 기법을 의미\n",
    "- 탑다운 방식에 국한되어 사용되는 표현 \n",
    "- 엄밀히 말하면 메모제이션은 이전에 계산된 결과를 일시적으로 기록해 놓는 넓은 개념을 의미하므로, 다이나믹 프로그래밍과는 별도의 개념이다."
   ]
  },
  {
   "cell_type": "code",
   "execution_count": 10,
   "metadata": {},
   "outputs": [],
   "source": [
    "import time"
   ]
  },
  {
   "cell_type": "markdown",
   "metadata": {},
   "source": [
    "재귀 호출로 피보나치 수열 구현 -> x값이 커질수록 수행시간이 기하급수적으로 늘어난다."
   ]
  },
  {
   "cell_type": "code",
   "execution_count": 16,
   "metadata": {},
   "outputs": [
    {
     "name": "stdout",
     "output_type": "stream",
     "text": [
      "9227465\n",
      "time:  3.2617979049682617\n"
     ]
    }
   ],
   "source": [
    "def fibo(x):\n",
    "    # x 값이 1이거나 2이면 1반환\n",
    "    if x == 1 or x == 2:\n",
    "        return 1\n",
    "    # 피보나치 수열 계산\n",
    "    return fibo(x-1) + fibo(x-2)\n",
    "start = time.time()\n",
    "print(fibo(35))\n",
    "print('time: ', time.time() - start)"
   ]
  },
  {
   "cell_type": "markdown",
   "metadata": {},
   "source": [
    "탑다운 방식으로 피보나치 수열 구현"
   ]
  },
  {
   "cell_type": "code",
   "execution_count": 17,
   "metadata": {},
   "outputs": [
    {
     "name": "stdout",
     "output_type": "stream",
     "text": [
      "9227465\n",
      "time:  0.0005829334259033203\n"
     ]
    }
   ],
   "source": [
    "# 한 번 계산된 결과를 메모제이션 하기 위한 리스트 초기화\n",
    "d = [0] * 100\n",
    "\n",
    "def fibo(x):\n",
    "    # x 값이 1이거나 2이면 1반환\n",
    "    if x == 1 or x == 2:\n",
    "        return 1\n",
    "    # 이미 계산했다면 그 값을 반환\n",
    "    if d[x] != 0:\n",
    "        return d[x]\n",
    "    # 계산하지 않았다면 계산\n",
    "    d[x] = fibo(x-1) + fibo(x-2)\n",
    "    # 계산값 반환\n",
    "    return d[x]\n",
    "\n",
    "start = time.time()\n",
    "print(fibo(35))\n",
    "print('time: ', time.time() - start)"
   ]
  },
  {
   "cell_type": "markdown",
   "metadata": {},
   "source": [
    "보텀업 방식으로 피보나치 수열 구현"
   ]
  },
  {
   "cell_type": "code",
   "execution_count": 20,
   "metadata": {},
   "outputs": [
    {
     "name": "stdout",
     "output_type": "stream",
     "text": [
      "9227465\n",
      "time:  0.0003838539123535156\n"
     ]
    }
   ],
   "source": [
    "# 한 번 계산된 결과를 메모제이션 하기 위한 리스트 초기화\n",
    "d = [0] * 100\n",
    "# x 값이 1이거나 2이면 1반환\n",
    "d[1], d[2] = 1, 1\n",
    "def fibo(x):\n",
    "    # 반복문으로 피보나치 수열 계산\n",
    "    for i in range(3, x+1):\n",
    "        d[i] = d[i-1] + d[i-2]\n",
    "    return d[x]\n",
    "\n",
    "start = time.time()\n",
    "print(fibo(35))\n",
    "print('time: ', time.time() - start)"
   ]
  }
 ],
 "metadata": {
  "kernelspec": {
   "display_name": "Python 3",
   "language": "python",
   "name": "python3"
  },
  "language_info": {
   "codemirror_mode": {
    "name": "ipython",
    "version": 3
   },
   "file_extension": ".py",
   "mimetype": "text/x-python",
   "name": "python",
   "nbconvert_exporter": "python",
   "pygments_lexer": "ipython3",
   "version": "3.8.5"
  }
 },
 "nbformat": 4,
 "nbformat_minor": 4
}
