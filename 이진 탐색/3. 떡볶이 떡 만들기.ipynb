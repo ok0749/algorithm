{
 "cells": [
  {
   "cell_type": "markdown",
   "metadata": {},
   "source": [
    "### 입력 조건\n",
    "- 첫째 줄에 떡의 개수 N과 요청한 떡의 길이 M이 주어진다.(1 <= N <= 1,000,000, 1 <= M <= 2,000,000,000)\n",
    "- 둘째 줄에는 떡의 개별 높이가 주어진다. 떡 높이의 총합은 항상 M이상이므로, 손님은 필요한 양만큼 떡을 사갈 수 있다. 높이는 10억보다 작거나 같은 양의 정수 또는 0이다."
   ]
  },
  {
   "cell_type": "markdown",
   "metadata": {},
   "source": [
    "### 출력 조건\n",
    "- 적어도 M만큼의 떡을 집에 가져가기 위해 절단기에 설정할 수 있는 높이의 최댓값을 출력한다."
   ]
  },
  {
   "cell_type": "markdown",
   "metadata": {},
   "source": [
    "### 규칙\n",
    "1. 떡은 길이가 일정하지 않다. 대신에 한 봉지 안에 들어가는 떡의 총 길이는 절단기로 잘라서 맞춘다.\n",
    "2. 절단기에 높이(H)를 지정하면 줄지어진 떡을 한 번에 절단한다. 높이가 H보다 긴 떡은 H 위의 부분이 잘릴 것이고, 낮은 떡은 잘리지 않는다.\n",
    "3. 높이가 19, 14, 10, 17cm인 떡이 나란히 있고 절단기 높이를 15cm로 지정하면 자른 뒤 떡의 높이는 15, 14, 10, 15cm가 될 것이다. 잘린 떡의 길이는 차례대로 4, 0, 0, 2cm이다. 손님은 6cm만큼의 길이를 가져간다."
   ]
  },
  {
   "cell_type": "markdown",
   "metadata": {},
   "source": [
    "### ex)\n",
    "- 입력 \n",
    "    - 4 6\n",
    "    - 19 15 10 17\n",
    "    \n",
    "- 출력\n",
    "    - 15"
   ]
  },
  {
   "cell_type": "code",
   "execution_count": 1,
   "metadata": {},
   "outputs": [
    {
     "name": "stdout",
     "output_type": "stream",
     "text": [
      "4 6\n",
      "19 15 10 17\n"
     ]
    }
   ],
   "source": [
    "# n: 떡의 개수, m: 요청한 떡의 길이\n",
    "n, m = map(int, input().split())\n",
    "array = list(map(int, input().split()))"
   ]
  },
  {
   "cell_type": "code",
   "execution_count": 11,
   "metadata": {},
   "outputs": [
    {
     "name": "stdout",
     "output_type": "stream",
     "text": [
      "15\n"
     ]
    }
   ],
   "source": [
    "# 시작점, 끝점 초기값 설정\n",
    "start = 0\n",
    "end = max(array)\n",
    "# 결과값 초기값 설정\n",
    "result = 0\n",
    "\n",
    "# 시작점이 끝점과 같거나 작으면 반복\n",
    "while start <= end:\n",
    "    # 잘린 떡의 길이 총합 초기값 설정\n",
    "    total = 0\n",
    "    # 절단 높이를 중간값으로 설정\n",
    "    h = (start + end) // 2\n",
    "    # 떡 리스트의 각 떡에 대해\n",
    "    for i in array:\n",
    "        # 떡의 길이가 절단 높이 보다 크면 \n",
    "        if i > h:\n",
    "            # 절단 후 남은 높이를 결과값에 더한다\n",
    "            total += i - h\n",
    "    # 잘린 떡의 길이 총합이 요청한 떡의 길이보다 작으면         \n",
    "    if total < m:\n",
    "        # 끝값을 중간값 -1 로 설정 -> 중간값 왼쪽에 대해 탐색\n",
    "        end = h - 1\n",
    "    # 잘린 떡의 길이 총합이 요청한 떡의 길이보다 같거나 크면\n",
    "    else:\n",
    "        # 결과값을 잘린 떡의 길이 총합으로 설정\n",
    "        result = h\n",
    "        start = h + 1\n",
    "# 최종 결과값(절단 높이) 출력 -> 최댓값\n",
    "print(result)"
   ]
  }
 ],
 "metadata": {
  "kernelspec": {
   "display_name": "Python 3",
   "language": "python",
   "name": "python3"
  },
  "language_info": {
   "codemirror_mode": {
    "name": "ipython",
    "version": 3
   },
   "file_extension": ".py",
   "mimetype": "text/x-python",
   "name": "python",
   "nbconvert_exporter": "python",
   "pygments_lexer": "ipython3",
   "version": "3.8.5"
  }
 },
 "nbformat": 4,
 "nbformat_minor": 4
}
