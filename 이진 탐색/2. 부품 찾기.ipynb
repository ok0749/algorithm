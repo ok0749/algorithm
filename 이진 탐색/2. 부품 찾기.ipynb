{
 "cells": [
  {
   "cell_type": "markdown",
   "metadata": {},
   "source": [
    "### 입력 조건\n",
    "- 첫째 줄에 정수 N이 주어진다.(1 <= N <= 1,000,000)\n",
    "- 둘째 줄에는 공백으로 구분하여 N개의 정수가 주어진다. 이때 정수는 1보다 크고 1,000,000 이하이다.\n",
    "- 셋째 줄에는 정수 M이 주어진다.(1 <= M <= 100,000)\n",
    "- 넷째 줄에는 공백으로 구분하여 M개의 정수가 주어진다. 이때 정수는 1보다 크고 1,000,000 이하이다."
   ]
  },
  {
   "cell_type": "markdown",
   "metadata": {},
   "source": [
    "### 출력 조건\n",
    "- 첫째 줄에 공백으로 구분하여 각 부품이 존재하면 yes를, 없으면 no를 출력한다."
   ]
  },
  {
   "cell_type": "markdown",
   "metadata": {},
   "source": [
    "### 규칙\n",
    "1. 전자 매장에 부품이 N개 있고, 각 부품은 정수 형태의 고유한 번호가 있다.\n",
    "2. M개의 부품을 판매한다고 할 때 가게 안에 부품이 모두 있는지 확인하는 프로그램을 작성한다."
   ]
  },
  {
   "cell_type": "markdown",
   "metadata": {},
   "source": [
    "### ex)\n",
    "- 입력 \n",
    "    - 5\n",
    "    - 8 3 7 9 2\n",
    "    - 3\n",
    "    - 5 7 9\n",
    "\n",
    "- 출력\n",
    "    - no yes yes"
   ]
  },
  {
   "cell_type": "code",
   "execution_count": 33,
   "metadata": {},
   "outputs": [
    {
     "name": "stdout",
     "output_type": "stream",
     "text": [
      "5\n",
      "8 3 7 9 2\n",
      "3\n",
      "5 7 9\n"
     ]
    }
   ],
   "source": [
    "# 부품 수\n",
    "n = int(input())\n",
    "# 부품 리스트\n",
    "n_list = list(map(int, input().split()))\n",
    "# 이진 탐색을 위해 정렬\n",
    "n_list.sort()\n",
    "# 판매할 부품 수\n",
    "m = int(input())\n",
    "# 판매할 부품 리스트\n",
    "m_list = list(map(int, input().split()))"
   ]
  },
  {
   "cell_type": "markdown",
   "metadata": {},
   "source": [
    "### 나의 답"
   ]
  },
  {
   "cell_type": "code",
   "execution_count": 41,
   "metadata": {},
   "outputs": [
    {
     "name": "stdout",
     "output_type": "stream",
     "text": [
      "no yes yes "
     ]
    }
   ],
   "source": [
    "# 판매할 부품 리스트 각 부품에 대해\n",
    "for i in m_list:\n",
    "    # 판매할 부품이 부품 리스트에 있으면\n",
    "    if i in n_list:\n",
    "        # 'yes' 출력\n",
    "        print('yes', end=' ')\n",
    "    # 판매할 부품이 부품 리스트에 없으면\n",
    "    else: \n",
    "        # 'no' 출력\n",
    "        print('no', end=' ')"
   ]
  },
  {
   "cell_type": "markdown",
   "metadata": {},
   "source": [
    "### 이진 탐색"
   ]
  },
  {
   "cell_type": "code",
   "execution_count": 35,
   "metadata": {},
   "outputs": [
    {
     "name": "stdout",
     "output_type": "stream",
     "text": [
      "5\n",
      "[2, 3, 7, 8, 9]\n",
      "3\n",
      "[5, 7, 9]\n"
     ]
    }
   ],
   "source": [
    "print(n, n_list, m, m_list, sep='\\n')"
   ]
  },
  {
   "cell_type": "code",
   "execution_count": 40,
   "metadata": {},
   "outputs": [
    {
     "name": "stdout",
     "output_type": "stream",
     "text": [
      "no yes yes "
     ]
    }
   ],
   "source": [
    "def binary_search(array, target, start, end):\n",
    "    # 시작점이 끝점 보다 크면 종료, 'no' 반환\n",
    "    if start > end:\n",
    "        return 'no'\n",
    "    #중간점\n",
    "    mid = (start + end) // 2\n",
    "    # 중간점 값이 타겟과 같으면 'yes' 반환\n",
    "    if array[mid] == target:\n",
    "        return 'yes'\n",
    "    # 중간점 값이 타켓보다 크면 왼쪽 부분 탐색\n",
    "    elif array[mid] > target:\n",
    "        return binary_search(array, target, start, mid-1)\n",
    "    # 중간점 값이 타켓보다 작으면 오른쪽 부분 탐색\n",
    "    elif array[mid] < target:\n",
    "        return binary_search(array, target, mid+1, end)\n",
    "\n",
    "# 판매할 부품 리스트 각 부품에 대해\n",
    "for target in m_list:\n",
    "    # 이진 탐색\n",
    "    print(binary_search(n_list, target, 0, n-1), end=' ')"
   ]
  },
  {
   "cell_type": "markdown",
   "metadata": {},
   "source": [
    "### 계수 정렬"
   ]
  },
  {
   "cell_type": "code",
   "execution_count": 44,
   "metadata": {},
   "outputs": [
    {
     "data": {
      "text/plain": [
       "([2, 3, 7, 8, 9], [5, 7, 9])"
      ]
     },
     "execution_count": 44,
     "metadata": {},
     "output_type": "execute_result"
    }
   ],
   "source": [
    "n_list, m_list"
   ]
  },
  {
   "cell_type": "code",
   "execution_count": 49,
   "metadata": {},
   "outputs": [
    {
     "name": "stdout",
     "output_type": "stream",
     "text": [
      "no yes yes "
     ]
    }
   ],
   "source": [
    "# 개수를 기록할 리스트 생성\n",
    "array = [0] * (max(n_list)+1)\n",
    "# 해당 인덱스에 개수 기록\n",
    "for i in n_list:\n",
    "    array[i] += 1\n",
    "# 부품이 있으면 'yes', 없으면 'no' 출력\n",
    "for i in m_list:\n",
    "    if array[i] == 1:\n",
    "         print('yes', end=' ')\n",
    "    else:\n",
    "        print('no', end=' ')"
   ]
  },
  {
   "cell_type": "markdown",
   "metadata": {},
   "source": [
    "### 집합 자료형"
   ]
  },
  {
   "cell_type": "code",
   "execution_count": 55,
   "metadata": {},
   "outputs": [
    {
     "name": "stdout",
     "output_type": "stream",
     "text": [
      "no yes yes "
     ]
    }
   ],
   "source": [
    "# 집합 자료형 생성, 집합 자료형은 중복을 제거한다\n",
    "# 여기서는 부품이 고유한 번호를 가지고 있다고 했기 때문에 굳이 집합 자료형으로 할 필요없이 리스트로 해도 상관없다\n",
    "array = set(n_list)\n",
    "\n",
    "for i in m_list:\n",
    "    if i in array:\n",
    "        print('yes', end=' ')\n",
    "    else:\n",
    "        print('no', end=' ')"
   ]
  }
 ],
 "metadata": {
  "kernelspec": {
   "display_name": "Python 3",
   "language": "python",
   "name": "python3"
  },
  "language_info": {
   "codemirror_mode": {
    "name": "ipython",
    "version": 3
   },
   "file_extension": ".py",
   "mimetype": "text/x-python",
   "name": "python",
   "nbconvert_exporter": "python",
   "pygments_lexer": "ipython3",
   "version": "3.8.5"
  }
 },
 "nbformat": 4,
 "nbformat_minor": 4
}
