{
 "cells": [
  {
   "cell_type": "markdown",
   "metadata": {},
   "source": [
    "### 순차 탐색(Sequential Search)\n",
    "- 리스트 안에 있는 특정한 데이터를 찾기 위해 앞에서부터 데이터를 하나씩 차례대로 확인하는 방법 "
   ]
  },
  {
   "cell_type": "code",
   "execution_count": 2,
   "metadata": {},
   "outputs": [
    {
     "name": "stdout",
     "output_type": "stream",
     "text": [
      "5 Dongbin\n",
      "2\n"
     ]
    }
   ],
   "source": [
    "def sequential_search(n, target, array):\n",
    "    for i in range(n):\n",
    "        if array[i] == target:\n",
    "            return i\n",
    "\n",
    "# 원소 개수, 찾고자 하는 문자열 띄어쓰기로 입력\n",
    "n, target = input().split()\n",
    "n = int(n)\n",
    "array = ['Hanul', 'Jonggu', 'Dongbin', 'Taeil', 'Sangwook']\n",
    "\n",
    "print(sequential_search(n, target, array))"
   ]
  },
  {
   "cell_type": "markdown",
   "metadata": {},
   "source": [
    "### 이진 탐색(Binary Search)\n",
    "- 배열 내부의 데이터가 정렬되어 있어야만 사용할 수 있는 알고리즘\n",
    "- 위치를 나타내느 변수 3개를 사용한다(시작점, 끝점, 중간점)\n",
    "- 찾으려는 데이터와 중간점 위치에 있는 데이터를 반복적으로 비교해서 원하는 데이터를 찾는 방법\n",
    "- 재귀 함수를 이용하는 방법과 단순하게 반복문을 이용하는 방법이 있다."
   ]
  },
  {
   "cell_type": "code",
   "execution_count": 9,
   "metadata": {},
   "outputs": [
    {
     "name": "stdout",
     "output_type": "stream",
     "text": [
      "10 7\n",
      "1 3 5 7 9 11 13 15 17 19\n",
      "3\n"
     ]
    }
   ],
   "source": [
    "# 재귀 함수 이용\n",
    "def binary_search(array, target, start, end):\n",
    "    # 시작점이 끝점보다 크면 종료\n",
    "    if start > end:\n",
    "        return None\n",
    "    # 중간점 \n",
    "    mid = (start + end) // 2\n",
    "    \n",
    "    # 중간점 데이터가 찾으려는 데이터와 같으면 인덱스 반환\n",
    "    if array[mid] == target:\n",
    "        return mid\n",
    "    # 찾으려는 데이터가 중간점 데이터보다 작은 경우 -> 중간점 데이터 왼쪽에 대해서 탐색\n",
    "    elif array[mid] > target:\n",
    "        return binary_search(array, target, start, mid-1)\n",
    "    # 찾으려는 데이터가 중간점 데이터보다 큰 경우 -> 중간점 데이터 오른쪽에 대해서 탐색\n",
    "    else:\n",
    "        return binary_search(array, target, mid+1, end)\n",
    "\n",
    "# 원소 개수와 찾으려는 데이터 띄어쓰기로 입력\n",
    "n, target = map(int, input().split())\n",
    "# 전체 데이터 입력\n",
    "array = list(map(int, input().split()))\n",
    "\n",
    "# 결과 출력\n",
    "result = binary_search(array, target, 0, n-1)\n",
    "if result == None:\n",
    "    print('원소가 존재하지 않습니다')\n",
    "else:\n",
    "    print(result)"
   ]
  },
  {
   "cell_type": "code",
   "execution_count": 11,
   "metadata": {},
   "outputs": [
    {
     "name": "stdout",
     "output_type": "stream",
     "text": [
      "10 7\n",
      "1 3 5 7 9 11 13 15 17 19\n",
      "3\n"
     ]
    }
   ],
   "source": [
    "# 반복문 이용\n",
    "def binary_search(array, target, start, end):\n",
    "    while start <= end:\n",
    "        mid = (start + end) // 2\n",
    "        \n",
    "        if array[mid] == target:\n",
    "            return mid\n",
    "        elif array[mid] > target:\n",
    "            end = mid - 1 \n",
    "        else: \n",
    "            start = mid + 1\n",
    "    return None\n",
    "\n",
    "n, target = map(int, input().split())\n",
    "array = list(map(int, input().split()))\n",
    "\n",
    "result = binary_search(array, target, 0, n-1)\n",
    "if result == None:\n",
    "    print('원소가 존재하지 않습니다')\n",
    "else:\n",
    "    print(result)"
   ]
  },
  {
   "cell_type": "markdown",
   "metadata": {},
   "source": [
    "### 트리 자료 구조\n",
    "- 트리는 부모 노드와 자식 노드의 관계로 표현된다.\n",
    "- 트리의 최상단 노드를 루트 노드라고 한다.\n",
    "- 트리의 최하단 노드를 단말 노드라고 한다.\n",
    "- 트리에서 일부를 떼어내도 트리 구조이며 이를 서브 트리라 한다.\n",
    "- 트리는 파일 시스템과 같이 계층적이고 정렬된 데이터를 다루기에 적합하다."
   ]
  },
  {
   "cell_type": "markdown",
   "metadata": {},
   "source": [
    "### 이진 탐색 트리\n",
    "- 트리 자료구조 중에서 가장 간단한 형태\n",
    "- 부모 노드보다 왼쪽 자식 노드가 작다\n",
    "- 부모 노드보다 오른쪽 자식 노드가 크다 \n",
    "- 왼쪽 자식 노드 < 부모 노드 < 오른쪽 자식 노드"
   ]
  }
 ],
 "metadata": {
  "kernelspec": {
   "display_name": "Python 3",
   "language": "python",
   "name": "python3"
  },
  "language_info": {
   "codemirror_mode": {
    "name": "ipython",
    "version": 3
   },
   "file_extension": ".py",
   "mimetype": "text/x-python",
   "name": "python",
   "nbconvert_exporter": "python",
   "pygments_lexer": "ipython3",
   "version": "3.8.5"
  }
 },
 "nbformat": 4,
 "nbformat_minor": 4
}
