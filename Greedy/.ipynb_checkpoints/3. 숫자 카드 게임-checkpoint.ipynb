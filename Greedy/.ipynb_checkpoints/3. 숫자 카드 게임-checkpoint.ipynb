{
 "cells": [
  {
   "cell_type": "markdown",
   "metadata": {},
   "source": [
    "### 입력 조건\n",
    "- 첫째 줄에 숫자 카드들이 놓인 행의 개수 N과 열의 개수 M이 공백을 기준으로 하여 각각 자연수로 주어진다(1 <= N, M <=100)\n",
    "- 둘째 줄부터 N개의 줄에 걸쳐 각 카드에 적힌 숫자가 주어진다. 각 숫자는 1 이상 10000 이하의 자연수이다."
   ]
  },
  {
   "cell_type": "markdown",
   "metadata": {},
   "source": [
    "###  출력 조건\n",
    "- 첫째 줄에 게임의 룰에 맞게 선택한 카드에 적힌 숫자를 출력한다"
   ]
  },
  {
   "cell_type": "markdown",
   "metadata": {},
   "source": [
    "### 게임 룰\n",
    "1. 먼저 뽑고자 하는 카드가 포함되어 있는 행을 선택한다.\n",
    "2. 그다음 선택된 행에 포함된 카드들 중 가장 숫자가 낮은 카드를 뽑아야 한다.\n",
    "3. 다른 행에 비해서 최종적으로 가장 숫자가 높아야 한다."
   ]
  },
  {
   "cell_type": "markdown",
   "metadata": {},
   "source": [
    "### ex 1)\n",
    "- 입력 \n",
    "    - 3 3\n",
    "    - 3 1 2\n",
    "    - 4 1 4\n",
    "    - 2 2 2 \n",
    "    \n",
    "- 출력\n",
    "    - 2"
   ]
  },
  {
   "cell_type": "markdown",
   "metadata": {},
   "source": [
    "### ex 2)\n",
    "- 입력 \n",
    "    - 2 4\n",
    "    - 7 3 1 8\n",
    "    - 3 3 3 4\n",
    "    \n",
    "- 출력\n",
    "    - 3"
   ]
  },
  {
   "cell_type": "code",
   "execution_count": 3,
   "metadata": {},
   "outputs": [
    {
     "name": "stdout",
     "output_type": "stream",
     "text": [
      "2 4\n",
      "7 3 1 8\n",
      "3 3 3 4\n",
      "3\n"
     ]
    }
   ],
   "source": [
    "N, M = map(int, input().split())\n",
    "\n",
    "result = 0\n",
    "for i in range(N): # 각 행에 대해 실행\n",
    "    row = list(map(int, input().split())) # 입력된 행을 리스트로 변환\n",
    "    if min(row) > result: # 해당 행의 min 값이 result 값보다 큰 경우 result 업데이트 \n",
    "        result = min(row)\n",
    "print(result)"
   ]
  },
  {
   "cell_type": "code",
   "execution_count": 5,
   "metadata": {},
   "outputs": [
    {
     "name": "stdout",
     "output_type": "stream",
     "text": [
      "2 4\n",
      "7 3 1 8\n",
      "3 3 3 4\n",
      "3\n"
     ]
    }
   ],
   "source": [
    "# max() 함수를 이용해 result 값 찾기\n",
    "N, M = map(int, input().split())\n",
    "\n",
    "result = 0\n",
    "for i in range(N): # 각 행에 대해 실행\n",
    "    row = list(map(int, input().split())) # 입력된 행을 리스트로 변환\n",
    "    result = max(result, min(row)) # result와 min(row) 둘 중 큰 값으로 result 업데이트 \n",
    "print(result)"
   ]
  }
 ],
 "metadata": {
  "kernelspec": {
   "display_name": "Python 3",
   "language": "python",
   "name": "python3"
  },
  "language_info": {
   "codemirror_mode": {
    "name": "ipython",
    "version": 3
   },
   "file_extension": ".py",
   "mimetype": "text/x-python",
   "name": "python",
   "nbconvert_exporter": "python",
   "pygments_lexer": "ipython3",
   "version": "3.8.5"
  }
 },
 "nbformat": 4,
 "nbformat_minor": 4
}
