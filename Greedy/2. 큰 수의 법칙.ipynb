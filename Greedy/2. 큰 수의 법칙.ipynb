{
 "cells": [
  {
   "cell_type": "markdown",
   "metadata": {},
   "source": [
    "### 입력 조건\n",
    "- 첫째 줄에 N(2 <= N <= 1000), M(1 <= M <= 10000), K(1 <= K <= 10000)의 자연수가 주어지며, 각 자연수는 공백으로 구분한다.\n",
    "- 둘째 줄에 N개의 자연수가 주어진다. 각 자연수는 공백으로 구분한다. 단, 각각의 자연수는 1이상 10000 이하의 수로 주어진다.\n",
    "- 입력으로 주어지는 K는 항상 M보다 작거나 같다."
   ]
  },
  {
   "cell_type": "markdown",
   "metadata": {},
   "source": [
    "###  출력 조건\n",
    "- 첫째 줄에 동빈이의 큰 수의 법칙에 따라 더해진 답을 출력한다."
   ]
  },
  {
   "cell_type": "markdown",
   "metadata": {},
   "source": [
    "### 동빈이의 법칙\n",
    "- 주어진 수들을 M번 더하여 가장 큰 수를 만드는 법칙. 단, 배열의 특정한 인덱스(번호)에 해당하는 수가 연속해서 K번을 초과하여 더해질 수 없다.\n",
    "- 서로 다른 인덱스에 해당하는 수가 같은 경우에도 서로 다른 것으로 간주한다."
   ]
  },
  {
   "cell_type": "markdown",
   "metadata": {},
   "source": [
    "### ex)\n",
    "- 입력 \n",
    "    - 5 8 3\n",
    "    - 2 4 5 4 6\n",
    "    \n",
    "- 출력\n",
    "    - 46"
   ]
  },
  {
   "cell_type": "code",
   "execution_count": 17,
   "metadata": {},
   "outputs": [
    {
     "name": "stdout",
     "output_type": "stream",
     "text": [
      "5 8 3\n",
      "2 4 5 4 6\n",
      "46\n"
     ]
    }
   ],
   "source": [
    "N, M, K = map(int, input().split())\n",
    "numbers = list(map(int, input().split()))\n",
    "\n",
    "first_num = max(numbers) # 입력 받은 배열에서 가장 큰 수 \n",
    "numbers.remove(first_num) # 배열에서 가장 큰 수 제거\n",
    "second_num = max(numbers) # 입력 받은 배열에서 두 번째로 큰 수 \n",
    "a = M // K # 가장 큰 수가 K번 곱해지는 횟수 \n",
    "b = M % K # 두 번째로 큰 수가 더해지는 횟수\n",
    "\n",
    "result = K*a*first_num + b*second_num\n",
    "print(result)"
   ]
  },
  {
   "cell_type": "code",
   "execution_count": 20,
   "metadata": {},
   "outputs": [
    {
     "name": "stdout",
     "output_type": "stream",
     "text": [
      "[2, 4, 4, 5, 6] 6 5\n"
     ]
    }
   ],
   "source": [
    "# 가장 큰 수와 두 번째로 큰 수를 구하는 다른 방법\n",
    "numbers = [2, 4, 5, 4, 6]\n",
    "numbers.sort() # numbers를 오름차순으로 정렬\n",
    "first_num = numbers[-1] # 가장 오른쪽에 있는 수(가장 큰 수)\n",
    "second_num = numbers[-2] # 오른쪽에서 두번 째에 있는 수(두번 째로 큰 수) \n",
    "print(numbers, first_num, second_num)"
   ]
  },
  {
   "cell_type": "code",
   "execution_count": null,
   "metadata": {},
   "outputs": [],
   "source": []
  }
 ],
 "metadata": {
  "kernelspec": {
   "display_name": "Python 3",
   "language": "python",
   "name": "python3"
  },
  "language_info": {
   "codemirror_mode": {
    "name": "ipython",
    "version": 3
   },
   "file_extension": ".py",
   "mimetype": "text/x-python",
   "name": "python",
   "nbconvert_exporter": "python",
   "pygments_lexer": "ipython3",
   "version": "3.8.5"
  }
 },
 "nbformat": 4,
 "nbformat_minor": 4
}
