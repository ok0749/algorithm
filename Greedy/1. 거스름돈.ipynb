{
 "cells": [
  {
   "cell_type": "markdown",
   "metadata": {},
   "source": [
    "### 카운터에는 거스름돈으로 사용할 500원, 100원, 50원, 10원짜리 동전이 무한히 존재한다고 가정한다. 손님에게 거슬러 줘야 할 돈이 N원일 때 거슬러 줘야 할 동전의 최소 개수를 구하라. 단, 거슬러 줘야 할 돈 N은 항상 10의 배수이다."
   ]
  },
  {
   "cell_type": "code",
   "execution_count": 15,
   "metadata": {},
   "outputs": [
    {
     "name": "stdout",
     "output_type": "stream",
     "text": [
      "거슬러 줘야 할 돈1260\n",
      "6\n"
     ]
    }
   ],
   "source": [
    "# hard coding\n",
    "n = int(input('거슬러 줘야 할 돈: '))\n",
    "a = n // 500\n",
    "b = n%500 // 100\n",
    "c = n%500%100 // 50\n",
    "d = n%500%100%50 // 10\n",
    "print(a + b + c + d)"
   ]
  },
  {
   "cell_type": "code",
   "execution_count": 16,
   "metadata": {},
   "outputs": [
    {
     "name": "stdout",
     "output_type": "stream",
     "text": [
      "거슬러 줘야 할 돈: 1260\n",
      "6\n"
     ]
    }
   ],
   "source": [
    "n = int(input('거슬러 줘야 할 돈: '))\n",
    "count = 0\n",
    "coin_types = [500, 100, 50, 10]\n",
    "for coin in coin_types:\n",
    "    count += n // coin \n",
    "    n %= coin \n",
    "\n",
    "print(count)"
   ]
  }
 ],
 "metadata": {
  "kernelspec": {
   "display_name": "Python 3",
   "language": "python",
   "name": "python3"
  },
  "language_info": {
   "codemirror_mode": {
    "name": "ipython",
    "version": 3
   },
   "file_extension": ".py",
   "mimetype": "text/x-python",
   "name": "python",
   "nbconvert_exporter": "python",
   "pygments_lexer": "ipython3",
   "version": "3.8.5"
  }
 },
 "nbformat": 4,
 "nbformat_minor": 4
}
